{
 "cells": [
  {
   "cell_type": "code",
   "execution_count": 1,
   "metadata": {
    "collapsed": true
   },
   "outputs": [],
   "source": [
    "import sample\n",
    "from __future__ import division"
   ]
  },
  {
   "cell_type": "markdown",
   "metadata": {},
   "source": [
    "#### Get sample"
   ]
  },
  {
   "cell_type": "code",
   "execution_count": 2,
   "metadata": {
    "collapsed": false
   },
   "outputs": [],
   "source": [
    "sampler = sample.Sampler(\"I will build a \")\n",
    "sample = sampler.get_sample()"
   ]
  },
  {
   "cell_type": "markdown",
   "metadata": {},
   "source": [
    "#### Read all speeches"
   ]
  },
  {
   "cell_type": "code",
   "execution_count": 3,
   "metadata": {
    "collapsed": false
   },
   "outputs": [],
   "source": [
    "with open(\"data/trump/input_norm_caps/input.txt\", \"r\") as f:\n",
    "    data = f.read()"
   ]
  },
  {
   "cell_type": "markdown",
   "metadata": {},
   "source": [
    "### Find percent of n word sequences that are unique"
   ]
  },
  {
   "cell_type": "code",
   "execution_count": 4,
   "metadata": {
    "collapsed": false
   },
   "outputs": [],
   "source": [
    "def count_new_combos(sample, n_words, verbose=False):\n",
    "    words = sample.split()\n",
    "    word_count = len(words)\n",
    "    count_new = 0\n",
    "    for i in range(word_count - n_words):\n",
    "        next_words_3 = ' '.join(words[i: i+ n_words])\n",
    "        new_sequence = next_words_3 in data\n",
    "        if not new_sequence:\n",
    "            count_new += 1\n",
    "        if verbose:\n",
    "            print '{}: {}, {}'.format(i, new_sequence, next_words_3)\n",
    "    return count_new/word_count"
   ]
  },
  {
   "cell_type": "code",
   "execution_count": 5,
   "metadata": {
    "collapsed": false
   },
   "outputs": [
    {
     "name": "stdout",
     "output_type": "stream",
     "text": [
      "0.0% of sequences of length 0 in the sample are new sequences\n",
      "9.7% of sequences of length 1 in the sample are new sequences\n",
      "24.7% of sequences of length 2 in the sample are new sequences\n",
      "50.5% of sequences of length 3 in the sample are new sequences\n",
      "76.3% of sequences of length 4 in the sample are new sequences\n",
      "90.3% of sequences of length 5 in the sample are new sequences\n",
      "95.4% of sequences of length 6 in the sample are new sequences\n",
      "97.6% of sequences of length 7 in the sample are new sequences\n",
      "97.8% of sequences of length 8 in the sample are new sequences\n",
      "97.6% of sequences of length 9 in the sample are new sequences\n"
     ]
    }
   ],
   "source": [
    "percent_new_list = {}\n",
    "for j in range(10):\n",
    "    percent_new = count_new_combos(sample, j)\n",
    "    print \"{0:.1%} of sequences of length {1} in the sample are new sequences\".\\\n",
    "        format(percent_new, j)\n",
    "    percent_new_list[j] = percent_new"
   ]
  },
  {
   "cell_type": "code",
   "execution_count": 6,
   "metadata": {
    "collapsed": false
   },
   "outputs": [
    {
     "data": {
      "text/plain": [
       "{0: 0.0,\n",
       " 1: 0.0967741935483871,\n",
       " 2: 0.24731182795698925,\n",
       " 3: 0.5053763440860215,\n",
       " 4: 0.7634408602150538,\n",
       " 5: 0.9032258064516129,\n",
       " 6: 0.9543010752688172,\n",
       " 7: 0.9758064516129032,\n",
       " 8: 0.978494623655914,\n",
       " 9: 0.9758064516129032}"
      ]
     },
     "execution_count": 6,
     "metadata": {},
     "output_type": "execute_result"
    }
   ],
   "source": [
    "percent_new_list"
   ]
  },
  {
   "cell_type": "code",
   "execution_count": 7,
   "metadata": {
    "collapsed": false
   },
   "outputs": [
    {
     "name": "stdout",
     "output_type": "stream",
     "text": [
      "loaded nvd3 IPython extension\n",
      "run nvd3.ipynb.initialize_javascript() to set up the notebook\n",
      "help(nvd3.ipynb.initialize_javascript) for options\n"
     ]
    },
    {
     "data": {
      "text/html": [
       "<link media=\"all\" href=\"https://cdnjs.cloudflare.com/ajax/libs/nvd3/1.7.0/nv.d3.min.css\" type=\"text/css\"\n",
       "                        rel=\"stylesheet\"/>"
      ],
      "text/plain": [
       "<IPython.core.display.HTML object>"
      ]
     },
     "metadata": {},
     "output_type": "display_data"
    },
    {
     "data": {
      "application/javascript": [
       "$.getScript(\"https://cdnjs.cloudflare.com/ajax/libs/nvd3/1.7.0/nv.d3.min.js\")"
      ],
      "text/plain": [
       "<IPython.core.display.Javascript object>"
      ]
     },
     "metadata": {},
     "output_type": "display_data"
    },
    {
     "data": {
      "application/javascript": [
       "$.getScript(\"https://cdnjs.cloudflare.com/ajax/libs/d3/3.5.5/d3.min.js\", function() {\n",
       "                              $.getScript(\"https://cdnjs.cloudflare.com/ajax/libs/nvd3/1.7.0/nv.d3.min.js\", function() {})});"
      ],
      "text/plain": [
       "<IPython.core.display.Javascript object>"
      ]
     },
     "metadata": {},
     "output_type": "display_data"
    },
    {
     "data": {
      "text/html": [
       "<script src=\"https://cdnjs.cloudflare.com/ajax/libs/d3/3.5.5/d3.min.js\"></script>"
      ],
      "text/plain": [
       "<IPython.core.display.HTML object>"
      ]
     },
     "metadata": {},
     "output_type": "display_data"
    },
    {
     "data": {
      "text/html": [
       "<script src=\"https://cdnjs.cloudflare.com/ajax/libs/nvd3/1.7.0/nv.d3.min.js\"></script>"
      ],
      "text/plain": [
       "<IPython.core.display.HTML object>"
      ]
     },
     "metadata": {},
     "output_type": "display_data"
    }
   ],
   "source": [
    "import nvd3\n",
    "nvd3.ipynb.initialize_javascript(use_remote=True)"
   ]
  },
  {
   "cell_type": "code",
   "execution_count": 8,
   "metadata": {
    "collapsed": false
   },
   "outputs": [
    {
     "data": {
      "text/plain": [
       "[(0, 1, 2, 3, 4, 5, 6, 7, 8, 9),\n",
       " (0.0,\n",
       "  0.0967741935483871,\n",
       "  0.24731182795698925,\n",
       "  0.5053763440860215,\n",
       "  0.7634408602150538,\n",
       "  0.9032258064516129,\n",
       "  0.9543010752688172,\n",
       "  0.9758064516129032,\n",
       "  0.978494623655914,\n",
       "  0.9758064516129032)]"
      ]
     },
     "execution_count": 8,
     "metadata": {},
     "output_type": "execute_result"
    }
   ],
   "source": [
    "df_transpose = zip(*percent_new_list.items())\n",
    "df_transpose"
   ]
  },
  {
   "cell_type": "markdown",
   "metadata": {},
   "source": [
    "### Plot percent new by sequence length"
   ]
  },
  {
   "cell_type": "code",
   "execution_count": 9,
   "metadata": {
    "collapsed": false
   },
   "outputs": [],
   "source": [
    "chart = nvd3.lineChart(name=\"lineChart\", height=450, width=750, show_legend=False)\n",
    "\n",
    "xdata = df_transpose[0]\n",
    "ydata = df_transpose[1]"
   ]
  },
  {
   "cell_type": "code",
   "execution_count": 10,
   "metadata": {
    "collapsed": false
   },
   "outputs": [
    {
     "data": {
      "text/html": [
       "<!DOCTYPE html>\n",
       "<html lang=\"en\">\n",
       "    <head>\n",
       "        <meta charset=\"utf-8\" />\n",
       "        <link href=\"https://cdnjs.cloudflare.com/ajax/libs/nvd3/1.7.0/nv.d3.min.css\" rel=\"stylesheet\" />\n",
       "        <script src=\"https://cdnjs.cloudflare.com/ajax/libs/d3/3.5.5/d3.min.js\"></script>\n",
       "        <script src=\"https://cdnjs.cloudflare.com/ajax/libs/nvd3/1.7.0/nv.d3.min.js\"></script>\n",
       "    </head>\n",
       "    <body>\n",
       "        \n",
       "    <div id=\"linechart\"><svg style=\"width:750px;height:450px;\"></svg></div>\n",
       "\n",
       "\n",
       "    <script>\n",
       "\n",
       "\n",
       "\n",
       "            data_linechart=[{\"values\": [{\"y\": 0.0, \"x\": 0}, {\"y\": 0.0967741935483871, \"x\": 1}, {\"y\": 0.24731182795698925, \"x\": 2}, {\"y\": 0.5053763440860215, \"x\": 3}, {\"y\": 0.7634408602150538, \"x\": 4}, {\"y\": 0.9032258064516129, \"x\": 5}, {\"y\": 0.9543010752688172, \"x\": 6}, {\"y\": 0.9758064516129032, \"x\": 7}, {\"y\": 0.978494623655914, \"x\": 8}, {\"y\": 0.9758064516129032, \"x\": 9}], \"key\": \"Percent new\", \"yAxis\": \"1\"}];\n",
       "\n",
       "\n",
       "        nv.addGraph(function() {\n",
       "        var chart = nv.models.lineChart();\n",
       "\n",
       "        chart.margin({top: 30, right: 60, bottom: 20, left: 60});\n",
       "\n",
       "        var datum = data_linechart;\n",
       "\n",
       "\n",
       "\n",
       "                chart.xAxis\n",
       "                .tickFormat(d3.format(',r'));\n",
       "            chart.yAxis\n",
       "                .tickFormat(d3.format(',.02f'));\n",
       "\n",
       "\n",
       "\n",
       "          chart.showLegend(false);\n",
       "\n",
       "\n",
       "    \n",
       "\n",
       "        \n",
       "\n",
       "\n",
       "\n",
       "            d3.select('#linechart svg')\n",
       "            .datum(datum)\n",
       "            .transition().duration(500)\n",
       "            .attr('width', 750)\n",
       "            .attr('height', 450)\n",
       "            .call(chart);\n",
       "\n",
       "\n",
       "        });\n",
       "\n",
       "\n",
       "\n",
       "    </script>\n",
       "\n",
       "    </body>\n",
       "</html>"
      ],
      "text/plain": [
       "<nvd3.lineChart.lineChart at 0x104b36290>"
      ]
     },
     "execution_count": 10,
     "metadata": {},
     "output_type": "execute_result"
    }
   ],
   "source": [
    "extra_serie = {\"tooltip\": {\"y_start\": \"\", \"y_end\": \" min\"}}\n",
    "chart.add_serie(y=ydata, x=xdata, name='Percent new', extra=extra_serie)\n",
    "chart.create_x_axis('Sequence length')\n",
    "chart.create_y_axis('Percent of all sequences new')\n",
    "chart"
   ]
  },
  {
   "cell_type": "code",
   "execution_count": 11,
   "metadata": {
    "collapsed": false
   },
   "outputs": [],
   "source": [
    "with open('percent_new_list.html', 'w') as f:\n",
    "    f.write(chart.htmlcontent)"
   ]
  }
 ],
 "metadata": {
  "anaconda-cloud": {},
  "kernelspec": {
   "display_name": "Python [default]",
   "language": "python",
   "name": "python2"
  },
  "language_info": {
   "codemirror_mode": {
    "name": "ipython",
    "version": 2
   },
   "file_extension": ".py",
   "mimetype": "text/x-python",
   "name": "python",
   "nbconvert_exporter": "python",
   "pygments_lexer": "ipython2",
   "version": "2.7.12"
  }
 },
 "nbformat": 4,
 "nbformat_minor": 1
}
